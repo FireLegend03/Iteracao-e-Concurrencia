{
 "cells": [
  {
   "cell_type": "markdown",
   "metadata": {},
   "source": [
    "##### Concurrency and interaction  2024/2025\n",
    "### Lecture 3 - Deutsch Algorithm"
   ]
  },
  {
   "cell_type": "markdown",
   "metadata": {},
   "source": [
    "<!-- no toc -->\n",
    "### Contents \n",
    "\n",
    "1. [Deutsch's Algorithm](#Deutsch)\n",
    "2. [Deutsch-Jozsa Algorithm](#Deutsch-jozsa)"
   ]
  },
  {
   "cell_type": "markdown",
   "metadata": {},
   "source": [
    "### 2. Deutsch's Algorithm <a id=\"Deutsch\"></a>\n",
    "\n",
    "Let's consider a Boolean function $f:\\{0,1\\} \\rightarrow \\{0,1\\}$ that can either be balanced or constant.\n",
    "\n",
    "- **Constant**: its output is always 0 or always 1\n",
    "- **Balanced**: outputs 0 for one input and 1 for the other\n",
    "\n",
    "\n",
    "<p align=\"center\">\n",
    "  <img width=\"600\" height=\"300\" src=\"images/balanced_vs_constant.png\">\n",
    "</p>\n",
    "\n",
    "<p align=\"center\">\n",
    "  <img width=\"600\" height=\"200\" src=\"images/deutsch.png\">\n",
    "</p>\n",
    "\n",
    "$U_f$ is our function, usually seen as an oracle, or a black-box function that we want to find if it's balanced or constant\n",
    "\n",
    "\n",
    "The result for the measurement of the first qubit will be:\n",
    "\n",
    "* $P(0)=1$ if the function is **constant**\n",
    "* $P(1)=1$ if the function is **balanced**\n",
    "\n",
    "In general for $n$-bit Boolean functions $f:\\{0,1\\}^n \\rightarrow \\{0,1\\}$, the generalized Deutsch-Jozsa algorithm can determine if the function is constant or balanced with $\\mathcal{O}(1)$ queries to the function using superposition of inputs + interference. \n",
    "\n",
    "The classical algorithm needs $\\mathcal{O}(2^{n-1} + 1)$ queries to determine if the function is balanced or constant."
   ]
  },
  {
   "cell_type": "markdown",
   "metadata": {},
   "source": [
    "#### Implement every function and check if it's balanced or constant\n"
   ]
  },
  {
   "cell_type": "code",
   "execution_count": 1,
   "metadata": {},
   "outputs": [],
   "source": [
    "import pennylane as qml"
   ]
  },
  {
   "cell_type": "code",
   "execution_count": 2,
   "metadata": {},
   "outputs": [],
   "source": [
    "def function(id=1):\n",
    "    if (id == 2):\n",
    "        qml.PauliX(wires=0)\n",
    "    elif (id == 3):\n",
    "        qml.CNOT(wires = [0, 1])\n",
    "    elif (id == 4):\n",
    "        qml.PauliX(wires = 0)\n",
    "        qml.CNOT(wires = [0, 1])\n",
    "        qml.PauliX(wires = 0)\n",
    "        \n"
   ]
  },
  {
   "cell_type": "code",
   "execution_count": 3,
   "metadata": {},
   "outputs": [],
   "source": [
    "\n",
    "dev = qml.device(\"default.qubit\", wires=2)\n",
    "\n",
    "@qml.qnode(dev)\n",
    "def Deutsch(id):\n",
    "\n",
    "    #superposition\n",
    "    qml.Hadamard(wires=0)\n",
    "    \n",
    "    qml.PauliX(wires=1)\n",
    "    qml.Hadamard(wires=1)\n",
    "    \n",
    "    #function\n",
    "    function(id)\n",
    "    \n",
    "    #interference\n",
    "    qml.Hadamard(wires=0)\n",
    "\n",
    "    #measurement\n",
    "    return qml.probs(wires=[0])\n",
    "    "
   ]
  },
  {
   "cell_type": "code",
   "execution_count": 4,
   "metadata": {},
   "outputs": [
    {
     "data": {
      "text/plain": [
       "array([0., 1.])"
      ]
     },
     "execution_count": 4,
     "metadata": {},
     "output_type": "execute_result"
    }
   ],
   "source": [
    "Deutsch(4)"
   ]
  },
  {
   "cell_type": "code",
   "execution_count": 9,
   "metadata": {},
   "outputs": [
    {
     "ename": "AttributeError",
     "evalue": "module 'pennylane' has no attribute 'draw_mlp'",
     "output_type": "error",
     "traceback": [
      "\u001b[1;31m---------------------------------------------------------------------------\u001b[0m",
      "\u001b[1;31mAttributeError\u001b[0m                            Traceback (most recent call last)",
      "Cell \u001b[1;32mIn[9], line 1\u001b[0m\n\u001b[1;32m----> 1\u001b[0m qml\u001b[38;5;241m.\u001b[39mdraw_mlp(Deutsch)(\u001b[38;5;241m3\u001b[39m)\n",
      "File \u001b[1;32mc:\\Users\\pedro\\anaconda3\\envs\\quantica\\Lib\\site-packages\\pennylane\\__init__.py:183\u001b[0m, in \u001b[0;36m__getattr__\u001b[1;34m(name)\u001b[0m\n\u001b[0;32m    180\u001b[0m \u001b[38;5;28;01mif\u001b[39;00m name \u001b[38;5;241m==\u001b[39m \u001b[38;5;124m\"\u001b[39m\u001b[38;5;124mplugin_devices\u001b[39m\u001b[38;5;124m\"\u001b[39m:\n\u001b[0;32m    181\u001b[0m     \u001b[38;5;28;01mreturn\u001b[39;00m pennylane\u001b[38;5;241m.\u001b[39mdevices\u001b[38;5;241m.\u001b[39mdevice_constructor\u001b[38;5;241m.\u001b[39mplugin_devices\n\u001b[1;32m--> 183\u001b[0m \u001b[38;5;28;01mraise\u001b[39;00m \u001b[38;5;167;01mAttributeError\u001b[39;00m(\u001b[38;5;124mf\u001b[39m\u001b[38;5;124m\"\u001b[39m\u001b[38;5;124mmodule \u001b[39m\u001b[38;5;124m'\u001b[39m\u001b[38;5;124mpennylane\u001b[39m\u001b[38;5;124m'\u001b[39m\u001b[38;5;124m has no attribute \u001b[39m\u001b[38;5;124m'\u001b[39m\u001b[38;5;132;01m{\u001b[39;00mname\u001b[38;5;132;01m}\u001b[39;00m\u001b[38;5;124m'\u001b[39m\u001b[38;5;124m\"\u001b[39m)\n",
      "\u001b[1;31mAttributeError\u001b[0m: module 'pennylane' has no attribute 'draw_mlp'"
     ]
    }
   ],
   "source": [
    "qml.draw_mlp(Deutsch)(3)"
   ]
  },
  {
   "cell_type": "markdown",
   "metadata": {},
   "source": [
    "### 3. Deutsch-Jozsa Algorithm <a id=\"Deutsch-jozsa\"></a>"
   ]
  },
  {
   "cell_type": "markdown",
   "metadata": {},
   "source": [
    "Deutsch-Josza algorithm is the generalization of the previous algorithm for boolean functions for $n$ bit strings rather than single bit string inputs.\n",
    "\n",
    "<p align=\"center\">\n",
    "  <img width=\"700\" height=\"200\" src=\"images/dj.png\">\n",
    "</p>\n",
    "\n",
    "The results for the single input case also remain true in this setting with minor differences:\n",
    "\n",
    "* Hadamard uniform superposition over all qubits instead of a single qubit\n",
    "* We will measure all input qubits instead of the single qubit\n",
    "* $P(000 \\dots 0)=1$ if the function is **constant**\n",
    "* $P(000 \\dots 0)=0$ if the function is **balanced**\n",
    "\n",
    "\n"
   ]
  },
  {
   "cell_type": "markdown",
   "metadata": {},
   "source": []
  },
  {
   "cell_type": "markdown",
   "metadata": {},
   "source": [
    "#### Implement Deuscht-Jozsa Algorithm "
   ]
  },
  {
   "cell_type": "code",
   "execution_count": 6,
   "metadata": {},
   "outputs": [
    {
     "ename": "IndentationError",
     "evalue": "expected an indented block after function definition on line 1 (209498386.py, line 4)",
     "output_type": "error",
     "traceback": [
      "\u001b[1;36m  Cell \u001b[1;32mIn[6], line 4\u001b[1;36m\u001b[0m\n\u001b[1;33m    def Deutsch_Jozsa(nqubits_input, nqubits_ancilla):\u001b[0m\n\u001b[1;37m    ^\u001b[0m\n\u001b[1;31mIndentationError\u001b[0m\u001b[1;31m:\u001b[0m expected an indented block after function definition on line 1\n"
     ]
    }
   ],
   "source": [
    "def function():\n",
    "\n",
    "\n",
    "def Deutsch_Jozsa(nqubits_input, nqubits_ancilla):\n",
    "\n",
    "    #inputs\n",
    "\n",
    "    #ancilla\n",
    "\n",
    "    #function\n",
    "    \n",
    "    #interference\n",
    "\n",
    "    #measurement\n"
   ]
  },
  {
   "cell_type": "code",
   "execution_count": null,
   "metadata": {},
   "outputs": [],
   "source": [
    "#execute the circuit"
   ]
  },
  {
   "cell_type": "markdown",
   "metadata": {},
   "source": [
    "#### Implement the Deutsch-Josza algorithm for the 3-bit string function with truth table \n",
    "\n",
    "|x_0|x_1|y|        \n",
    "|-|-|-|\n",
    "|0|0|0|\n",
    "|0|1|1|\n",
    "|1|0|1|\n",
    "|1|1|0|"
   ]
  },
  {
   "cell_type": "code",
   "execution_count": null,
   "metadata": {},
   "outputs": [],
   "source": []
  },
  {
   "cell_type": "markdown",
   "metadata": {},
   "source": [
    "Consider the following 3-qubit input state truth table:\n",
    "\n",
    "| Input | Output |\n",
    "|-------|--------|\n",
    "| 000   | 1      |\n",
    "| 001   | 1      |\n",
    "| 010   | 1      |\n",
    "| 011   | 1      |\n",
    "| 100   | 0      |\n",
    "| 101   | 0      |\n",
    "| 110   | 0      |\n",
    "| 111   | 0      |\n",
    "\n",
    "implement the algorithm for this function "
   ]
  },
  {
   "cell_type": "code",
   "execution_count": null,
   "metadata": {},
   "outputs": [],
   "source": []
  }
 ],
 "metadata": {
  "kernelspec": {
   "display_name": "quantica",
   "language": "python",
   "name": "python3"
  },
  "language_info": {
   "codemirror_mode": {
    "name": "ipython",
    "version": 3
   },
   "file_extension": ".py",
   "mimetype": "text/x-python",
   "name": "python",
   "nbconvert_exporter": "python",
   "pygments_lexer": "ipython3",
   "version": "3.12.9"
  }
 },
 "nbformat": 4,
 "nbformat_minor": 2
}
